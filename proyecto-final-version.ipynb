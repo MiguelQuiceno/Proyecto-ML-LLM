{
 "cells": [
  {
   "cell_type": "markdown",
   "id": "8cc7caec",
   "metadata": {
    "papermill": {
     "duration": 0.007875,
     "end_time": "2024-09-27T15:38:42.410853",
     "exception": false,
     "start_time": "2024-09-27T15:38:42.402978",
     "status": "completed"
    },
    "tags": []
   },
   "source": [
    "# Proyecto Machine Learning"
   ]
  },
  {
   "cell_type": "markdown",
   "id": "026d33c6",
   "metadata": {
    "papermill": {
     "duration": 0.006752,
     "end_time": "2024-09-27T15:38:42.424701",
     "exception": false,
     "start_time": "2024-09-27T15:38:42.417949",
     "status": "completed"
    },
    "tags": []
   },
   "source": [
    "El objetivo de este poryecto es implementar un modelo de lenguaje natural que sea capaz de predecir con cierta exactitud cuándo un texto dado ha sido generado por una inteligencia artificial.\n",
    "\n",
    "Para esto, se buscaron y recopilaron diversa cantidad de texto, los cuales han sido generados por un humano o por una inteligencia artificial a raíz de una especificación para dicho texto (Prompt)."
   ]
  },
  {
   "cell_type": "code",
   "execution_count": 1,
   "id": "ad97b2b6",
   "metadata": {
    "execution": {
     "iopub.execute_input": "2024-09-27T15:38:42.440162Z",
     "iopub.status.busy": "2024-09-27T15:38:42.439761Z",
     "iopub.status.idle": "2024-09-27T15:39:16.414240Z",
     "shell.execute_reply": "2024-09-27T15:39:16.413064Z"
    },
    "executionInfo": {
     "elapsed": 3748,
     "status": "ok",
     "timestamp": 1727118495595,
     "user": {
      "displayName": "Miguel Angel Quiceno Hincapie",
      "userId": "08645216339579853177"
     },
     "user_tz": 300
    },
    "id": "ahXYIuYGXRA9",
    "outputId": "6ffbbaf5-ac50-44be-ae8a-2845ad7cd898",
    "papermill": {
     "duration": 33.985072,
     "end_time": "2024-09-27T15:39:16.416639",
     "exception": false,
     "start_time": "2024-09-27T15:38:42.431567",
     "status": "completed"
    },
    "tags": []
   },
   "outputs": [
    {
     "name": "stdout",
     "output_type": "stream",
     "text": [
      "Requirement already satisfied: keras_nlp in /opt/conda/lib/python3.10/site-packages (0.14.4)\r\n",
      "Requirement already satisfied: absl-py in /opt/conda/lib/python3.10/site-packages (from keras_nlp) (1.4.0)\r\n",
      "Requirement already satisfied: numpy in /opt/conda/lib/python3.10/site-packages (from keras_nlp) (1.26.4)\r\n",
      "Requirement already satisfied: packaging in /opt/conda/lib/python3.10/site-packages (from keras_nlp) (21.3)\r\n",
      "Requirement already satisfied: regex in /opt/conda/lib/python3.10/site-packages (from keras_nlp) (2024.5.15)\r\n",
      "Requirement already satisfied: rich in /opt/conda/lib/python3.10/site-packages (from keras_nlp) (13.7.1)\r\n",
      "Requirement already satisfied: kagglehub in /opt/conda/lib/python3.10/site-packages (from keras_nlp) (0.2.9)\r\n",
      "Requirement already satisfied: tensorflow-text in /opt/conda/lib/python3.10/site-packages (from keras_nlp) (2.16.1)\r\n",
      "Requirement already satisfied: requests in /opt/conda/lib/python3.10/site-packages (from kagglehub->keras_nlp) (2.32.3)\r\n",
      "Requirement already satisfied: tqdm in /opt/conda/lib/python3.10/site-packages (from kagglehub->keras_nlp) (4.66.4)\r\n",
      "Requirement already satisfied: pyparsing!=3.0.5,>=2.0.2 in /opt/conda/lib/python3.10/site-packages (from packaging->keras_nlp) (3.1.2)\r\n",
      "Requirement already satisfied: markdown-it-py>=2.2.0 in /opt/conda/lib/python3.10/site-packages (from rich->keras_nlp) (3.0.0)\r\n",
      "Requirement already satisfied: pygments<3.0.0,>=2.13.0 in /opt/conda/lib/python3.10/site-packages (from rich->keras_nlp) (2.18.0)\r\n",
      "Requirement already satisfied: tensorflow<2.17,>=2.16.1 in /opt/conda/lib/python3.10/site-packages (from tensorflow-text->keras_nlp) (2.16.1)\r\n",
      "Requirement already satisfied: mdurl~=0.1 in /opt/conda/lib/python3.10/site-packages (from markdown-it-py>=2.2.0->rich->keras_nlp) (0.1.2)\r\n",
      "Requirement already satisfied: astunparse>=1.6.0 in /opt/conda/lib/python3.10/site-packages (from tensorflow<2.17,>=2.16.1->tensorflow-text->keras_nlp) (1.6.3)\r\n",
      "Requirement already satisfied: flatbuffers>=23.5.26 in /opt/conda/lib/python3.10/site-packages (from tensorflow<2.17,>=2.16.1->tensorflow-text->keras_nlp) (24.3.25)\r\n",
      "Requirement already satisfied: gast!=0.5.0,!=0.5.1,!=0.5.2,>=0.2.1 in /opt/conda/lib/python3.10/site-packages (from tensorflow<2.17,>=2.16.1->tensorflow-text->keras_nlp) (0.5.4)\r\n",
      "Requirement already satisfied: google-pasta>=0.1.1 in /opt/conda/lib/python3.10/site-packages (from tensorflow<2.17,>=2.16.1->tensorflow-text->keras_nlp) (0.2.0)\r\n",
      "Requirement already satisfied: h5py>=3.10.0 in /opt/conda/lib/python3.10/site-packages (from tensorflow<2.17,>=2.16.1->tensorflow-text->keras_nlp) (3.11.0)\r\n",
      "Requirement already satisfied: libclang>=13.0.0 in /opt/conda/lib/python3.10/site-packages (from tensorflow<2.17,>=2.16.1->tensorflow-text->keras_nlp) (18.1.1)\r\n",
      "Requirement already satisfied: ml-dtypes~=0.3.1 in /opt/conda/lib/python3.10/site-packages (from tensorflow<2.17,>=2.16.1->tensorflow-text->keras_nlp) (0.3.2)\r\n",
      "Requirement already satisfied: opt-einsum>=2.3.2 in /opt/conda/lib/python3.10/site-packages (from tensorflow<2.17,>=2.16.1->tensorflow-text->keras_nlp) (3.3.0)\r\n",
      "Requirement already satisfied: protobuf!=4.21.0,!=4.21.1,!=4.21.2,!=4.21.3,!=4.21.4,!=4.21.5,<5.0.0dev,>=3.20.3 in /opt/conda/lib/python3.10/site-packages (from tensorflow<2.17,>=2.16.1->tensorflow-text->keras_nlp) (3.20.3)\r\n",
      "Requirement already satisfied: setuptools in /opt/conda/lib/python3.10/site-packages (from tensorflow<2.17,>=2.16.1->tensorflow-text->keras_nlp) (70.0.0)\r\n",
      "Requirement already satisfied: six>=1.12.0 in /opt/conda/lib/python3.10/site-packages (from tensorflow<2.17,>=2.16.1->tensorflow-text->keras_nlp) (1.16.0)\r\n",
      "Requirement already satisfied: termcolor>=1.1.0 in /opt/conda/lib/python3.10/site-packages (from tensorflow<2.17,>=2.16.1->tensorflow-text->keras_nlp) (2.4.0)\r\n",
      "Requirement already satisfied: typing-extensions>=3.6.6 in /opt/conda/lib/python3.10/site-packages (from tensorflow<2.17,>=2.16.1->tensorflow-text->keras_nlp) (4.12.2)\r\n",
      "Requirement already satisfied: wrapt>=1.11.0 in /opt/conda/lib/python3.10/site-packages (from tensorflow<2.17,>=2.16.1->tensorflow-text->keras_nlp) (1.16.0)\r\n",
      "Requirement already satisfied: grpcio<2.0,>=1.24.3 in /opt/conda/lib/python3.10/site-packages (from tensorflow<2.17,>=2.16.1->tensorflow-text->keras_nlp) (1.62.2)\r\n",
      "Requirement already satisfied: tensorboard<2.17,>=2.16 in /opt/conda/lib/python3.10/site-packages (from tensorflow<2.17,>=2.16.1->tensorflow-text->keras_nlp) (2.16.2)\r\n",
      "Requirement already satisfied: keras>=3.0.0 in /opt/conda/lib/python3.10/site-packages (from tensorflow<2.17,>=2.16.1->tensorflow-text->keras_nlp) (3.3.3)\r\n",
      "Requirement already satisfied: tensorflow-io-gcs-filesystem>=0.23.1 in /opt/conda/lib/python3.10/site-packages (from tensorflow<2.17,>=2.16.1->tensorflow-text->keras_nlp) (0.37.0)\r\n",
      "Requirement already satisfied: charset-normalizer<4,>=2 in /opt/conda/lib/python3.10/site-packages (from requests->kagglehub->keras_nlp) (3.3.2)\r\n",
      "Requirement already satisfied: idna<4,>=2.5 in /opt/conda/lib/python3.10/site-packages (from requests->kagglehub->keras_nlp) (3.7)\r\n",
      "Requirement already satisfied: urllib3<3,>=1.21.1 in /opt/conda/lib/python3.10/site-packages (from requests->kagglehub->keras_nlp) (1.26.18)\r\n",
      "Requirement already satisfied: certifi>=2017.4.17 in /opt/conda/lib/python3.10/site-packages (from requests->kagglehub->keras_nlp) (2024.7.4)\r\n",
      "Requirement already satisfied: wheel<1.0,>=0.23.0 in /opt/conda/lib/python3.10/site-packages (from astunparse>=1.6.0->tensorflow<2.17,>=2.16.1->tensorflow-text->keras_nlp) (0.43.0)\r\n",
      "Requirement already satisfied: namex in /opt/conda/lib/python3.10/site-packages (from keras>=3.0.0->tensorflow<2.17,>=2.16.1->tensorflow-text->keras_nlp) (0.0.8)\r\n",
      "Requirement already satisfied: optree in /opt/conda/lib/python3.10/site-packages (from keras>=3.0.0->tensorflow<2.17,>=2.16.1->tensorflow-text->keras_nlp) (0.11.0)\r\n",
      "Requirement already satisfied: markdown>=2.6.8 in /opt/conda/lib/python3.10/site-packages (from tensorboard<2.17,>=2.16->tensorflow<2.17,>=2.16.1->tensorflow-text->keras_nlp) (3.6)\r\n",
      "Requirement already satisfied: tensorboard-data-server<0.8.0,>=0.7.0 in /opt/conda/lib/python3.10/site-packages (from tensorboard<2.17,>=2.16->tensorflow<2.17,>=2.16.1->tensorflow-text->keras_nlp) (0.7.2)\r\n",
      "Requirement already satisfied: werkzeug>=1.0.1 in /opt/conda/lib/python3.10/site-packages (from tensorboard<2.17,>=2.16->tensorflow<2.17,>=2.16.1->tensorflow-text->keras_nlp) (3.0.3)\r\n",
      "Requirement already satisfied: MarkupSafe>=2.1.1 in /opt/conda/lib/python3.10/site-packages (from werkzeug>=1.0.1->tensorboard<2.17,>=2.16->tensorflow<2.17,>=2.16.1->tensorflow-text->keras_nlp) (2.1.5)\r\n"
     ]
    }
   ],
   "source": [
    "# En caso de ser necesario, se descargan las librerías extra necesarias\n",
    "# para realizar el modelo\n",
    "\n",
    "!pip install keras_nlp"
   ]
  },
  {
   "cell_type": "code",
   "execution_count": 2,
   "id": "349194a9",
   "metadata": {
    "execution": {
     "iopub.execute_input": "2024-09-27T15:39:16.434508Z",
     "iopub.status.busy": "2024-09-27T15:39:16.434095Z",
     "iopub.status.idle": "2024-09-27T15:39:31.176064Z",
     "shell.execute_reply": "2024-09-27T15:39:31.175090Z"
    },
    "id": "0e92f233",
    "papermill": {
     "duration": 14.754011,
     "end_time": "2024-09-27T15:39:31.178938",
     "exception": false,
     "start_time": "2024-09-27T15:39:16.424927",
     "status": "completed"
    },
    "tags": []
   },
   "outputs": [],
   "source": [
    "# Importación de librerías\n",
    "import pandas as pd\n",
    "import matplotlib.pyplot as plt\n",
    "import seaborn as sns\n",
    "from sklearn.model_selection import train_test_split\n",
    "import keras_nlp\n",
    "import keras\n",
    "import tensorflow as tf"
   ]
  },
  {
   "cell_type": "code",
   "execution_count": 3,
   "id": "1b0e88c0",
   "metadata": {
    "execution": {
     "iopub.execute_input": "2024-09-27T15:39:31.200839Z",
     "iopub.status.busy": "2024-09-27T15:39:31.200197Z",
     "iopub.status.idle": "2024-09-27T15:39:31.208682Z",
     "shell.execute_reply": "2024-09-27T15:39:31.207768Z"
    },
    "papermill": {
     "duration": 0.019914,
     "end_time": "2024-09-27T15:39:31.210591",
     "exception": false,
     "start_time": "2024-09-27T15:39:31.190677",
     "status": "completed"
    },
    "tags": []
   },
   "outputs": [],
   "source": [
    "# Función que grafica la distribución de textos generados por I.A y por humanos\n",
    "def plot_text_distribution(data):\n",
    "    # Inicializando la gráfica\n",
    "    fig, ax = plt.subplots(figsize = (12, 4))\n",
    "    sns.despine()\n",
    "    ax = sns.countplot(data = data, x = 'generated')\n",
    "\n",
    "    # Viendo los valores\n",
    "    abs_values = data['generated'].value_counts()\n",
    "    abs_values.rename(index = {0: 'No', 1: 'Sí'}, inplace = True)\n",
    "\n",
    "    # Graficando la distribución\n",
    "    ax.bar_label(container = ax.containers[0],\n",
    "                 labels = abs_values.values)\n",
    "    ax.set_xticklabels(labels = abs_values.index.values)\n",
    "    ax.set_xlabel(xlabel = 'Generado')\n",
    "    ax.set_ylabel(ylabel = '')\n",
    "    ax.set_title('Distribucion de texto generado')\n",
    "\n",
    "# Schedule para corregir la tasa de aprendizaje\n",
    "def scheduler(epoch, lr):\n",
    "    if epoch == 3:\n",
    "        return lr * tf.math.exp(-0.1)\n",
    "    else:\n",
    "        return lr "
   ]
  },
  {
   "cell_type": "markdown",
   "id": "c31ca206",
   "metadata": {
    "papermill": {
     "duration": 0.007793,
     "end_time": "2024-09-27T15:39:31.226424",
     "exception": false,
     "start_time": "2024-09-27T15:39:31.218631",
     "status": "completed"
    },
    "tags": []
   },
   "source": [
    "## Preprocesado y análisis de los datos obtenidos"
   ]
  },
  {
   "cell_type": "code",
   "execution_count": 4,
   "id": "5175e682",
   "metadata": {
    "execution": {
     "iopub.execute_input": "2024-09-27T15:39:31.243725Z",
     "iopub.status.busy": "2024-09-27T15:39:31.243346Z",
     "iopub.status.idle": "2024-09-27T15:39:31.376131Z",
     "shell.execute_reply": "2024-09-27T15:39:31.375268Z"
    },
    "executionInfo": {
     "elapsed": 2385,
     "status": "ok",
     "timestamp": 1727118497968,
     "user": {
      "displayName": "Miguel Angel Quiceno Hincapie",
      "userId": "08645216339579853177"
     },
     "user_tz": 300
    },
    "id": "ve_FOhhnPLE-",
    "outputId": "b7a7faa9-3bed-4717-da43-ad64368f2587",
    "papermill": {
     "duration": 0.143982,
     "end_time": "2024-09-27T15:39:31.378376",
     "exception": false,
     "start_time": "2024-09-27T15:39:31.234394",
     "status": "completed"
    },
    "tags": []
   },
   "outputs": [],
   "source": [
    "# Importando los datos a analizar\n",
    "dataframe_train = pd.read_csv('/kaggle/input/datatrain/train_essays.csv')\n",
    "prompts         = pd.read_csv('/kaggle/input/datatrain/train_prompts.csv')\n",
    "dataframe_test  = pd.read_csv('/kaggle/input/datatrain/test_essays.csv')"
   ]
  },
  {
   "cell_type": "markdown",
   "id": "bba3c9f5",
   "metadata": {
    "papermill": {
     "duration": 0.007619,
     "end_time": "2024-09-27T15:39:31.394077",
     "exception": false,
     "start_time": "2024-09-27T15:39:31.386458",
     "status": "completed"
    },
    "tags": []
   },
   "source": [
    "En la base que contiene los datos a entrenar se tienen las columnas de identificador, identificador del prompt, el texto y si ha sido generado o no por una inteligencia articiail. Igualmente la base de los datos de testeo.\n",
    "\n",
    "En primera instancia se observó que en los datos de entrenamiento hay un desbalance entre los textos catalogados como generados por una inteligencia articial y los catalogados como generados por un humano."
   ]
  },
  {
   "cell_type": "code",
   "execution_count": 5,
   "id": "40f7adfe",
   "metadata": {
    "execution": {
     "iopub.execute_input": "2024-09-27T15:39:31.410928Z",
     "iopub.status.busy": "2024-09-27T15:39:31.410581Z",
     "iopub.status.idle": "2024-09-27T15:39:31.721143Z",
     "shell.execute_reply": "2024-09-27T15:39:31.720256Z"
    },
    "papermill": {
     "duration": 0.321474,
     "end_time": "2024-09-27T15:39:31.723314",
     "exception": false,
     "start_time": "2024-09-27T15:39:31.401840",
     "status": "completed"
    },
    "tags": []
   },
   "outputs": [
    {
     "data": {
      "image/png": "[encoded data removed]",
      "text/plain": [
       "<Figure size 1200x400 with 1 Axes>"
      ]
     },
     "metadata": {},
     "output_type": "display_data"
    }
   ],
   "source": [
    "# Visualización de la proporción de los datos\n",
    "plot_text_distribution(dataframe_train)"
   ]
  },
  {
   "cell_type": "markdown",
   "id": "c6541f4b",
   "metadata": {
    "papermill": {
     "duration": 0.007978,
     "end_time": "2024-09-27T15:39:31.739613",
     "exception": false,
     "start_time": "2024-09-27T15:39:31.731635",
     "status": "completed"
    },
    "tags": []
   },
   "source": [
    "Como el error que se evidenció es que hay una insuficiencia de datos catalogados como generados por una inteligencia artificial, se procedió a generar y buscar textos generados por distintos modelos de generación de texto."
   ]
  },
  {
   "cell_type": "code",
   "execution_count": 6,
   "id": "156b8700",
   "metadata": {
    "execution": {
     "iopub.execute_input": "2024-09-27T15:39:31.757606Z",
     "iopub.status.busy": "2024-09-27T15:39:31.756957Z",
     "iopub.status.idle": "2024-09-27T15:39:33.930491Z",
     "shell.execute_reply": "2024-09-27T15:39:33.929565Z"
    },
    "executionInfo": {
     "elapsed": 27,
     "status": "ok",
     "timestamp": 1727118498843,
     "user": {
      "displayName": "Miguel Angel Quiceno Hincapie",
      "userId": "08645216339579853177"
     },
     "user_tz": 300
    },
    "id": "f880ffc0",
    "outputId": "259c2912-083f-467c-cd05-f0fa4087ec88",
    "papermill": {
     "duration": 2.185131,
     "end_time": "2024-09-27T15:39:33.932894",
     "exception": false,
     "start_time": "2024-09-27T15:39:31.747763",
     "status": "completed"
    },
    "tags": []
   },
   "outputs": [],
   "source": [
    "# Importando la base con los textos generados adicionales\n",
    "generated = pd.read_csv('/kaggle/input/datatrain/ai_generated_train_essays.csv')\n",
    "\n",
    "# Importando la base de datos encontrada\n",
    "new_data = pd.read_csv('/kaggle/input/datatrain/train_v2_drcat_02.csv')\n",
    "\n",
    "# Cambiando el nombre de las columnas\n",
    "new_data.rename(columns = {'label': 'generated'}, inplace = True)\n",
    "\n",
    "# Incluyendo esta información en la base de datos de entrenmiento\n",
    "dataframe_train_amp = pd.concat([generated, dataframe_train, new_data],\n",
    "                                axis = 0, ignore_index = True)"
   ]
  },
  {
   "cell_type": "code",
   "execution_count": 7,
   "id": "de3da1e2",
   "metadata": {
    "execution": {
     "iopub.execute_input": "2024-09-27T15:39:33.951718Z",
     "iopub.status.busy": "2024-09-27T15:39:33.950982Z",
     "iopub.status.idle": "2024-09-27T15:39:34.213498Z",
     "shell.execute_reply": "2024-09-27T15:39:34.212582Z"
    },
    "executionInfo": {
     "elapsed": 23,
     "status": "ok",
     "timestamp": 1727118498843,
     "user": {
      "displayName": "Miguel Angel Quiceno Hincapie",
      "userId": "08645216339579853177"
     },
     "user_tz": 300
    },
    "id": "dbb79174",
    "outputId": "707116ec-15a9-4b51-8336-7be39fe1db38",
    "papermill": {
     "duration": 0.27393,
     "end_time": "2024-09-27T15:39:34.215635",
     "exception": false,
     "start_time": "2024-09-27T15:39:33.941705",
     "status": "completed"
    },
    "tags": []
   },
   "outputs": [
    {
     "data": {
      "image/png": "[encoded data removed]",
      "text/plain": [
       "<Figure size 1200x400 with 1 Axes>"
      ]
     },
     "metadata": {},
     "output_type": "display_data"
    }
   ],
   "source": [
    "# Visualización de la proporción de los nuevos datos\n",
    "plot_text_distribution(dataframe_train_amp)"
   ]
  },
  {
   "cell_type": "markdown",
   "id": "8c2a8601",
   "metadata": {
    "papermill": {
     "duration": 0.009516,
     "end_time": "2024-09-27T15:39:34.234782",
     "exception": false,
     "start_time": "2024-09-27T15:39:34.225266",
     "status": "completed"
    },
    "tags": []
   },
   "source": [
    "## Procesado de datos para el modelo"
   ]
  },
  {
   "cell_type": "code",
   "execution_count": 8,
   "id": "4c3c1808",
   "metadata": {
    "execution": {
     "iopub.execute_input": "2024-09-27T15:39:34.254655Z",
     "iopub.status.busy": "2024-09-27T15:39:34.253986Z",
     "iopub.status.idle": "2024-09-27T15:39:34.266763Z",
     "shell.execute_reply": "2024-09-27T15:39:34.265768Z"
    },
    "executionInfo": {
     "elapsed": 654,
     "status": "ok",
     "timestamp": 1727118499478,
     "user": {
      "displayName": "Miguel Angel Quiceno Hincapie",
      "userId": "08645216339579853177"
     },
     "user_tz": 300
    },
    "id": "de0d0fd2",
    "outputId": "f7c9f210-7cbd-4654-80ac-4ce43e9cc326",
    "papermill": {
     "duration": 0.024914,
     "end_time": "2024-09-27T15:39:34.269126",
     "exception": false,
     "start_time": "2024-09-27T15:39:34.244212",
     "status": "completed"
    },
    "tags": []
   },
   "outputs": [],
   "source": [
    "# Escogiendo las columnas relevantes para el modelo\n",
    "data_train = dataframe_train_amp[['text', 'generated']]\n",
    "data_test  = dataframe_test[['text']]"
   ]
  },
  {
   "cell_type": "markdown",
   "id": "214d6a93",
   "metadata": {
    "papermill": {
     "duration": 0.008902,
     "end_time": "2024-09-27T15:39:34.287869",
     "exception": false,
     "start_time": "2024-09-27T15:39:34.278967",
     "status": "completed"
    },
    "tags": []
   },
   "source": [
    "Debido a que se va a hacer uso de un modelo de lenguaje natural (Específicamente, BERT), tiene una limitación en la cantidad de palabras a procesar, se analizó la cantidad de textos que no cumple la capacidad que tiene el modelo escogido"
   ]
  },
  {
   "cell_type": "code",
   "execution_count": 9,
   "id": "0258df4b",
   "metadata": {
    "execution": {
     "iopub.execute_input": "2024-09-27T15:39:34.308743Z",
     "iopub.status.busy": "2024-09-27T15:39:34.308280Z",
     "iopub.status.idle": "2024-09-27T15:39:36.249051Z",
     "shell.execute_reply": "2024-09-27T15:39:36.248148Z"
    },
    "executionInfo": {
     "elapsed": 2830,
     "status": "ok",
     "timestamp": 1727118502299,
     "user": {
      "displayName": "Miguel Angel Quiceno Hincapie",
      "userId": "08645216339579853177"
     },
     "user_tz": 300
    },
    "id": "1219e973",
    "outputId": "eee89fc4-896c-4bbb-cb9c-4c626bb77c3c",
    "papermill": {
     "duration": 1.954413,
     "end_time": "2024-09-27T15:39:36.251451",
     "exception": false,
     "start_time": "2024-09-27T15:39:34.297038",
     "status": "completed"
    },
    "tags": []
   },
   "outputs": [
    {
     "name": "stderr",
     "output_type": "stream",
     "text": [
      "/opt/conda/lib/python3.10/site-packages/seaborn/_oldcore.py:1119: FutureWarning: use_inf_as_na option is deprecated and will be removed in a future version. Convert inf values to NaN before operating instead.\n",
      "  with pd.option_context('mode.use_inf_as_na', True):\n"
     ]
    },
    {
     "data": {
      "text/plain": [
       "Text(0.5, 0.98, 'Distribucion de la longitud del texto')"
      ]
     },
     "execution_count": 9,
     "metadata": {},
     "output_type": "execute_result"
    },
    {
     "data": {
      "text/plain": [
       "<Figure size 4000x5000 with 0 Axes>"
      ]
     },
     "metadata": {},
     "output_type": "display_data"
    },
    {
     "data": {
      "image/png": "[encoded data removed]",
      "text/plain": [
       "<Figure size 500x500 with 1 Axes>"
      ]
     },
     "metadata": {},
     "output_type": "display_data"
    }
   ],
   "source": [
    "# Viendo la longitud de cada uno de los textos\n",
    "lengths = data_train[['text']].map(lambda x: len(x.split()))\n",
    "lengths.rename(columns = {'text': 'longitud de texto'}, inplace = True)\n",
    "\n",
    "# Visualización la distribución de esas longitudes\n",
    "fig = plt.figure(figsize = (40, 50))\n",
    "plot = sns.displot(data = lengths, x = 'longitud de texto', bins = 30, kde = True)\n",
    "plot.fig.suptitle('Distribucion de la longitud del texto')"
   ]
  },
  {
   "cell_type": "code",
   "execution_count": 10,
   "id": "a3345833",
   "metadata": {
    "execution": {
     "iopub.execute_input": "2024-09-27T15:39:36.273027Z",
     "iopub.status.busy": "2024-09-27T15:39:36.272352Z",
     "iopub.status.idle": "2024-09-27T15:39:36.554150Z",
     "shell.execute_reply": "2024-09-27T15:39:36.553228Z"
    },
    "id": "7d4bca55",
    "papermill": {
     "duration": 0.295049,
     "end_time": "2024-09-27T15:39:36.556722",
     "exception": false,
     "start_time": "2024-09-27T15:39:36.261673",
     "status": "completed"
    },
    "tags": []
   },
   "outputs": [
    {
     "data": {
      "image/png": "[encoded data removed]",
      "text/plain": [
       "<Figure size 1200x400 with 1 Axes>"
      ]
     },
     "metadata": {},
     "output_type": "display_data"
    }
   ],
   "source": [
    "# Tomando los datos que cumplen la longitud adecuada\n",
    "data = data_train[lengths['longitud de texto'] <= 512]\n",
    "data.reset_index(drop = True, inplace = True)\n",
    "\n",
    "# Viendo la nueva distribución de datos\n",
    "plot_text_distribution(data)"
   ]
  },
  {
   "cell_type": "markdown",
   "id": "471339da",
   "metadata": {
    "papermill": {
     "duration": 0.01016,
     "end_time": "2024-09-27T15:39:36.577375",
     "exception": false,
     "start_time": "2024-09-27T15:39:36.567215",
     "status": "completed"
    },
    "tags": []
   },
   "source": [
    "## Entrenamiento del modelo"
   ]
  },
  {
   "cell_type": "code",
   "execution_count": 11,
   "id": "97564b72",
   "metadata": {
    "execution": {
     "iopub.execute_input": "2024-09-27T15:39:36.600974Z",
     "iopub.status.busy": "2024-09-27T15:39:36.600310Z",
     "iopub.status.idle": "2024-09-27T15:39:36.614462Z",
     "shell.execute_reply": "2024-09-27T15:39:36.613718Z"
    },
    "executionInfo": {
     "elapsed": 296,
     "status": "ok",
     "timestamp": 1727118502585,
     "user": {
      "displayName": "Miguel Angel Quiceno Hincapie",
      "userId": "08645216339579853177"
     },
     "user_tz": 300
    },
    "id": "ef6ce9bf",
    "outputId": "668aa72e-f6a9-4bed-a90d-354a245ac3f3",
    "papermill": {
     "duration": 0.02861,
     "end_time": "2024-09-27T15:39:36.616578",
     "exception": false,
     "start_time": "2024-09-27T15:39:36.587968",
     "status": "completed"
    },
    "tags": []
   },
   "outputs": [],
   "source": [
    "# Separando los datos en entrenamiento y testeo para entrenar el modelo\n",
    "x_train, x_test, y_train, y_test = train_test_split(data.iloc[:, :-1],\n",
    "                                                    data.iloc[:, -1],\n",
    "                                                    test_size = 0.2)"
   ]
  },
  {
   "cell_type": "markdown",
   "id": "914b2dd3",
   "metadata": {
    "papermill": {
     "duration": 0.010118,
     "end_time": "2024-09-27T15:39:36.637912",
     "exception": false,
     "start_time": "2024-09-27T15:39:36.627794",
     "status": "completed"
    },
    "tags": []
   },
   "source": [
    "Finalmente, dado que ya existen modelos de BERT entrenados, se opta por usar estos y solamente entrenar una última capa para dar la clasificación buscada. En esto, se notó que el modelo mejoraba en cada etapa, pero había un empeoramiento en el transcurso de cada una a partir de cierto punto, por eso se decidió hacer un cambio de la tasa de aprendizaje a partir de la tercera y última etapa."
   ]
  },
  {
   "cell_type": "code",
   "execution_count": 12,
   "id": "82c58c12",
   "metadata": {
    "execution": {
     "iopub.execute_input": "2024-09-27T15:39:36.660066Z",
     "iopub.status.busy": "2024-09-27T15:39:36.659479Z",
     "iopub.status.idle": "2024-09-27T15:39:53.218636Z",
     "shell.execute_reply": "2024-09-27T15:39:53.217862Z"
    },
    "executionInfo": {
     "elapsed": 21,
     "status": "ok",
     "timestamp": 1727118502586,
     "user": {
      "displayName": "Miguel Angel Quiceno Hincapie",
      "userId": "08645216339579853177"
     },
     "user_tz": 300
    },
    "id": "8c353117",
    "outputId": "844c4e49-308b-46ce-9d64-1fbb93e5fae2",
    "papermill": {
     "duration": 16.572887,
     "end_time": "2024-09-27T15:39:53.221034",
     "exception": false,
     "start_time": "2024-09-27T15:39:36.648147",
     "status": "completed"
    },
    "tags": []
   },
   "outputs": [],
   "source": [
    "# Creando el callback\n",
    "callback = keras.callbacks.LearningRateScheduler(scheduler)\n",
    "\n",
    "# Invocando el modelo ya entranado de BERT\n",
    "preprocessor = keras_nlp.models.DistilBertPreprocessor.from_preset(\n",
    "    'distil_bert_base_en_uncased',\n",
    "    sequence_length = 512)\n",
    "classifier = keras_nlp.models.DistilBertClassifier.from_preset(\n",
    "    'distil_bert_base_en_uncased',\n",
    "    num_classes  = 1,\n",
    "    activation   = keras.activations.sigmoid,\n",
    "    preprocessor = preprocessor)\n",
    "\n",
    "# Haciendo que solo se entrene la parte necesaria\n",
    "classifier.backbone.trainable = False\n",
    "\n",
    "# Especificando cómo entrenar el modelo\n",
    "classifier.compile(loss = ['binary_crossentropy'],\n",
    "                   optimizer = keras.optimizers.Adam(1e-4),\n",
    "                   metrics = ['accuracy', 'AUC'])"
   ]
  },
  {
   "cell_type": "code",
   "execution_count": 13,
   "id": "dd93732a",
   "metadata": {
    "execution": {
     "iopub.execute_input": "2024-09-27T15:39:53.243907Z",
     "iopub.status.busy": "2024-09-27T15:39:53.243527Z",
     "iopub.status.idle": "2024-09-27T15:58:26.528429Z",
     "shell.execute_reply": "2024-09-27T15:58:26.527401Z"
    },
    "executionInfo": {
     "elapsed": 3775,
     "status": "ok",
     "timestamp": 1727118506349,
     "user": {
      "displayName": "Miguel Angel Quiceno Hincapie",
      "userId": "08645216339579853177"
     },
     "user_tz": 300
    },
    "id": "0856f905",
    "outputId": "d9dc12c8-7d1c-4220-8b59-db5fb122e930",
    "papermill": {
     "duration": 1114.336486,
     "end_time": "2024-09-27T15:58:27.568639",
     "exception": false,
     "start_time": "2024-09-27T15:39:53.232153",
     "status": "completed"
    },
    "tags": []
   },
   "outputs": [
    {
     "name": "stdout",
     "output_type": "stream",
     "text": [
      "Epoch 1/3\n"
     ]
    },
    {
     "name": "stderr",
     "output_type": "stream",
     "text": [
      "WARNING: All log messages before absl::InitializeLog() is called are written to STDERR\n",
      "I0000 00:00:1727451603.590306      72 service.cc:145] XLA service 0x7eca54004b10 initialized for platform CUDA (this does not guarantee that XLA will be used). Devices:\n",
      "I0000 00:00:1727451603.590377      72 service.cc:153]   StreamExecutor device (0): Tesla P100-PCIE-16GB, Compute Capability 6.0\n"
     ]
    },
    {
     "name": "stdout",
     "output_type": "stream",
     "text": [
      "\u001b[1m   2/3808\u001b[0m \u001b[37m━━━━━━━━━━━━━━━━━━━━\u001b[0m \u001b[1m5:14\u001b[0m 83ms/step - AUC: 0.1208 - accuracy: 0.4688 - loss: 0.7047       "
     ]
    },
    {
     "name": "stderr",
     "output_type": "stream",
     "text": [
      "I0000 00:00:1727451636.296864      72 device_compiler.h:188] Compiled cluster using XLA!  This line is logged at most once for the lifetime of the process.\n"
     ]
    },
    {
     "name": "stdout",
     "output_type": "stream",
     "text": [
      "\u001b[1m3808/3808\u001b[0m \u001b[32m━━━━━━━━━━━━━━━━━━━━\u001b[0m\u001b[37m\u001b[0m \u001b[1m422s\u001b[0m 100ms/step - AUC: 0.9774 - accuracy: 0.9315 - loss: 0.1999 - val_AUC: 0.9970 - val_accuracy: 0.9358 - val_loss: 0.1560 - learning_rate: 1.0000e-04\n",
      "Epoch 2/3\n",
      "\u001b[1m3808/3808\u001b[0m \u001b[32m━━━━━━━━━━━━━━━━━━━━\u001b[0m\u001b[37m\u001b[0m \u001b[1m344s\u001b[0m 90ms/step - AUC: 0.9960 - accuracy: 0.9774 - loss: 0.0688 - val_AUC: 0.9971 - val_accuracy: 0.9347 - val_loss: 0.1649 - learning_rate: 1.0000e-04\n",
      "Epoch 3/3\n",
      "\u001b[1m3808/3808\u001b[0m \u001b[32m━━━━━━━━━━━━━━━━━━━━\u001b[0m\u001b[37m\u001b[0m \u001b[1m345s\u001b[0m 90ms/step - AUC: 0.9965 - accuracy: 0.9811 - loss: 0.0602 - val_AUC: 0.9975 - val_accuracy: 0.9489 - val_loss: 0.1337 - learning_rate: 1.0000e-04\n"
     ]
    },
    {
     "data": {
      "text/plain": [
       "<keras.src.callbacks.history.History at 0x7ecadd5f9180>"
      ]
     },
     "execution_count": 13,
     "metadata": {},
     "output_type": "execute_result"
    }
   ],
   "source": [
    "# Entrenando el modelo\n",
    "classifier.fit(x = x_train['text'].to_list(), y = y_train,\n",
    "               batch_size = 8, epochs = 3,\n",
    "               validation_data = (x_test['text'].to_list(), y_test),\n",
    "               callbacks = [callback])"
   ]
  },
  {
   "cell_type": "code",
   "execution_count": 14,
   "id": "024f6504",
   "metadata": {
    "execution": {
     "iopub.execute_input": "2024-09-27T15:58:29.522408Z",
     "iopub.status.busy": "2024-09-27T15:58:29.521992Z",
     "iopub.status.idle": "2024-09-27T15:58:29.555783Z",
     "shell.execute_reply": "2024-09-27T15:58:29.554935Z"
    },
    "papermill": {
     "duration": 1.044862,
     "end_time": "2024-09-27T15:58:29.557742",
     "exception": false,
     "start_time": "2024-09-27T15:58:28.512880",
     "status": "completed"
    },
    "tags": []
   },
   "outputs": [
    {
     "data": {
      "text/html": [
       "<pre style=\"white-space:pre;overflow-x:auto;line-height:normal;font-family:Menlo,'DejaVu Sans Mono',consolas,'Courier New',monospace\"><span style=\"font-weight: bold\">Preprocessor: \"distil_bert_preprocessor\"</span>\n",
       "</pre>\n"
      ],
      "text/plain": [
       "\u001b[1mPreprocessor: \"distil_bert_preprocessor\"\u001b[0m\n"
      ]
     },
     "metadata": {},
     "output_type": "display_data"
    },
    {
     "data": {
      "text/html": [
       "<pre style=\"white-space:pre;overflow-x:auto;line-height:normal;font-family:Menlo,'DejaVu Sans Mono',consolas,'Courier New',monospace\">┏━━━━━━━━━━━━━━━━━━━━━━━━━━━━━━━━━━━━━━━━━━━━━━━━━━━━┳━━━━━━━━━━━━━━━━━━━━━━━━━━━━━━━━━━━━━━━━━━━━━━━━━━━━━┓\n",
       "┃<span style=\"font-weight: bold\"> Tokenizer (type)                                   </span>┃<span style=\"font-weight: bold\">                                             Vocab # </span>┃\n",
       "┡━━━━━━━━━━━━━━━━━━━━━━━━━━━━━━━━━━━━━━━━━━━━━━━━━━━━╇━━━━━━━━━━━━━━━━━━━━━━━━━━━━━━━━━━━━━━━━━━━━━━━━━━━━━┩\n",
       "│ distil_bert_tokenizer (<span style=\"color: #0087ff; text-decoration-color: #0087ff\">DistilBertTokenizer</span>)        │                                              <span style=\"color: #00af00; text-decoration-color: #00af00\">30,522</span> │\n",
       "└────────────────────────────────────────────────────┴─────────────────────────────────────────────────────┘\n",
       "</pre>\n"
      ],
      "text/plain": [
       "┏━━━━━━━━━━━━━━━━━━━━━━━━━━━━━━━━━━━━━━━━━━━━━━━━━━━━┳━━━━━━━━━━━━━━━━━━━━━━━━━━━━━━━━━━━━━━━━━━━━━━━━━━━━━┓\n",
       "┃\u001b[1m \u001b[0m\u001b[1mTokenizer (type)                                  \u001b[0m\u001b[1m \u001b[0m┃\u001b[1m \u001b[0m\u001b[1m                                            Vocab #\u001b[0m\u001b[1m \u001b[0m┃\n",
       "┡━━━━━━━━━━━━━━━━━━━━━━━━━━━━━━━━━━━━━━━━━━━━━━━━━━━━╇━━━━━━━━━━━━━━━━━━━━━━━━━━━━━━━━━━━━━━━━━━━━━━━━━━━━━┩\n",
       "│ distil_bert_tokenizer (\u001b[38;5;33mDistilBertTokenizer\u001b[0m)        │                                              \u001b[38;5;34m30,522\u001b[0m │\n",
       "└────────────────────────────────────────────────────┴─────────────────────────────────────────────────────┘\n"
      ]
     },
     "metadata": {},
     "output_type": "display_data"
    },
    {
     "data": {
      "text/html": [
       "<pre style=\"white-space:pre;overflow-x:auto;line-height:normal;font-family:Menlo,'DejaVu Sans Mono',consolas,'Courier New',monospace\"><span style=\"font-weight: bold\">Model: \"distil_bert_classifier\"</span>\n",
       "</pre>\n"
      ],
      "text/plain": [
       "\u001b[1mModel: \"distil_bert_classifier\"\u001b[0m\n"
      ]
     },
     "metadata": {},
     "output_type": "display_data"
    },
    {
     "data": {
      "text/html": [
       "<pre style=\"white-space:pre;overflow-x:auto;line-height:normal;font-family:Menlo,'DejaVu Sans Mono',consolas,'Courier New',monospace\">┏━━━━━━━━━━━━━━━━━━━━━━━━━━━━━━━┳━━━━━━━━━━━━━━━━━━━━━━━━━━━┳━━━━━━━━━━━━━━━━━┳━━━━━━━━━━━━━━━━━━━━━━━━━━━━┓\n",
       "┃<span style=\"font-weight: bold\"> Layer (type)                  </span>┃<span style=\"font-weight: bold\"> Output Shape              </span>┃<span style=\"font-weight: bold\">         Param # </span>┃<span style=\"font-weight: bold\"> Connected to               </span>┃\n",
       "┡━━━━━━━━━━━━━━━━━━━━━━━━━━━━━━━╇━━━━━━━━━━━━━━━━━━━━━━━━━━━╇━━━━━━━━━━━━━━━━━╇━━━━━━━━━━━━━━━━━━━━━━━━━━━━┩\n",
       "│ padding_mask (<span style=\"color: #0087ff; text-decoration-color: #0087ff\">InputLayer</span>)     │ (<span style=\"color: #00d7ff; text-decoration-color: #00d7ff\">None</span>, <span style=\"color: #00d7ff; text-decoration-color: #00d7ff\">None</span>)              │               <span style=\"color: #00af00; text-decoration-color: #00af00\">0</span> │ -                          │\n",
       "├───────────────────────────────┼───────────────────────────┼─────────────────┼────────────────────────────┤\n",
       "│ token_ids (<span style=\"color: #0087ff; text-decoration-color: #0087ff\">InputLayer</span>)        │ (<span style=\"color: #00d7ff; text-decoration-color: #00d7ff\">None</span>, <span style=\"color: #00d7ff; text-decoration-color: #00d7ff\">None</span>)              │               <span style=\"color: #00af00; text-decoration-color: #00af00\">0</span> │ -                          │\n",
       "├───────────────────────────────┼───────────────────────────┼─────────────────┼────────────────────────────┤\n",
       "│ distil_bert_backbone          │ (<span style=\"color: #00d7ff; text-decoration-color: #00d7ff\">None</span>, <span style=\"color: #00d7ff; text-decoration-color: #00d7ff\">None</span>, <span style=\"color: #00af00; text-decoration-color: #00af00\">768</span>)         │      <span style=\"color: #00af00; text-decoration-color: #00af00\">66,362,880</span> │ padding_mask[<span style=\"color: #00af00; text-decoration-color: #00af00\">0</span>][<span style=\"color: #00af00; text-decoration-color: #00af00\">0</span>],        │\n",
       "│ (<span style=\"color: #0087ff; text-decoration-color: #0087ff\">DistilBertBackbone</span>)          │                           │                 │ token_ids[<span style=\"color: #00af00; text-decoration-color: #00af00\">0</span>][<span style=\"color: #00af00; text-decoration-color: #00af00\">0</span>]            │\n",
       "├───────────────────────────────┼───────────────────────────┼─────────────────┼────────────────────────────┤\n",
       "│ get_item (<span style=\"color: #0087ff; text-decoration-color: #0087ff\">GetItem</span>)            │ (<span style=\"color: #00d7ff; text-decoration-color: #00d7ff\">None</span>, <span style=\"color: #00af00; text-decoration-color: #00af00\">768</span>)               │               <span style=\"color: #00af00; text-decoration-color: #00af00\">0</span> │ distil_bert_backbone[<span style=\"color: #00af00; text-decoration-color: #00af00\">0</span>][<span style=\"color: #00af00; text-decoration-color: #00af00\">0</span>] │\n",
       "├───────────────────────────────┼───────────────────────────┼─────────────────┼────────────────────────────┤\n",
       "│ pooled_dense (<span style=\"color: #0087ff; text-decoration-color: #0087ff\">Dense</span>)          │ (<span style=\"color: #00d7ff; text-decoration-color: #00d7ff\">None</span>, <span style=\"color: #00af00; text-decoration-color: #00af00\">768</span>)               │         <span style=\"color: #00af00; text-decoration-color: #00af00\">590,592</span> │ get_item[<span style=\"color: #00af00; text-decoration-color: #00af00\">0</span>][<span style=\"color: #00af00; text-decoration-color: #00af00\">0</span>]             │\n",
       "├───────────────────────────────┼───────────────────────────┼─────────────────┼────────────────────────────┤\n",
       "│ output_dropout (<span style=\"color: #0087ff; text-decoration-color: #0087ff\">Dropout</span>)      │ (<span style=\"color: #00d7ff; text-decoration-color: #00d7ff\">None</span>, <span style=\"color: #00af00; text-decoration-color: #00af00\">768</span>)               │               <span style=\"color: #00af00; text-decoration-color: #00af00\">0</span> │ pooled_dense[<span style=\"color: #00af00; text-decoration-color: #00af00\">0</span>][<span style=\"color: #00af00; text-decoration-color: #00af00\">0</span>]         │\n",
       "├───────────────────────────────┼───────────────────────────┼─────────────────┼────────────────────────────┤\n",
       "│ logits (<span style=\"color: #0087ff; text-decoration-color: #0087ff\">Dense</span>)                │ (<span style=\"color: #00d7ff; text-decoration-color: #00d7ff\">None</span>, <span style=\"color: #00af00; text-decoration-color: #00af00\">1</span>)                 │             <span style=\"color: #00af00; text-decoration-color: #00af00\">769</span> │ output_dropout[<span style=\"color: #00af00; text-decoration-color: #00af00\">0</span>][<span style=\"color: #00af00; text-decoration-color: #00af00\">0</span>]       │\n",
       "└───────────────────────────────┴───────────────────────────┴─────────────────┴────────────────────────────┘\n",
       "</pre>\n"
      ],
      "text/plain": [
       "┏━━━━━━━━━━━━━━━━━━━━━━━━━━━━━━━┳━━━━━━━━━━━━━━━━━━━━━━━━━━━┳━━━━━━━━━━━━━━━━━┳━━━━━━━━━━━━━━━━━━━━━━━━━━━━┓\n",
       "┃\u001b[1m \u001b[0m\u001b[1mLayer (type)                 \u001b[0m\u001b[1m \u001b[0m┃\u001b[1m \u001b[0m\u001b[1mOutput Shape             \u001b[0m\u001b[1m \u001b[0m┃\u001b[1m \u001b[0m\u001b[1m        Param #\u001b[0m\u001b[1m \u001b[0m┃\u001b[1m \u001b[0m\u001b[1mConnected to              \u001b[0m\u001b[1m \u001b[0m┃\n",
       "┡━━━━━━━━━━━━━━━━━━━━━━━━━━━━━━━╇━━━━━━━━━━━━━━━━━━━━━━━━━━━╇━━━━━━━━━━━━━━━━━╇━━━━━━━━━━━━━━━━━━━━━━━━━━━━┩\n",
       "│ padding_mask (\u001b[38;5;33mInputLayer\u001b[0m)     │ (\u001b[38;5;45mNone\u001b[0m, \u001b[38;5;45mNone\u001b[0m)              │               \u001b[38;5;34m0\u001b[0m │ -                          │\n",
       "├───────────────────────────────┼───────────────────────────┼─────────────────┼────────────────────────────┤\n",
       "│ token_ids (\u001b[38;5;33mInputLayer\u001b[0m)        │ (\u001b[38;5;45mNone\u001b[0m, \u001b[38;5;45mNone\u001b[0m)              │               \u001b[38;5;34m0\u001b[0m │ -                          │\n",
       "├───────────────────────────────┼───────────────────────────┼─────────────────┼────────────────────────────┤\n",
       "│ distil_bert_backbone          │ (\u001b[38;5;45mNone\u001b[0m, \u001b[38;5;45mNone\u001b[0m, \u001b[38;5;34m768\u001b[0m)         │      \u001b[38;5;34m66,362,880\u001b[0m │ padding_mask[\u001b[38;5;34m0\u001b[0m][\u001b[38;5;34m0\u001b[0m],        │\n",
       "│ (\u001b[38;5;33mDistilBertBackbone\u001b[0m)          │                           │                 │ token_ids[\u001b[38;5;34m0\u001b[0m][\u001b[38;5;34m0\u001b[0m]            │\n",
       "├───────────────────────────────┼───────────────────────────┼─────────────────┼────────────────────────────┤\n",
       "│ get_item (\u001b[38;5;33mGetItem\u001b[0m)            │ (\u001b[38;5;45mNone\u001b[0m, \u001b[38;5;34m768\u001b[0m)               │               \u001b[38;5;34m0\u001b[0m │ distil_bert_backbone[\u001b[38;5;34m0\u001b[0m][\u001b[38;5;34m0\u001b[0m] │\n",
       "├───────────────────────────────┼───────────────────────────┼─────────────────┼────────────────────────────┤\n",
       "│ pooled_dense (\u001b[38;5;33mDense\u001b[0m)          │ (\u001b[38;5;45mNone\u001b[0m, \u001b[38;5;34m768\u001b[0m)               │         \u001b[38;5;34m590,592\u001b[0m │ get_item[\u001b[38;5;34m0\u001b[0m][\u001b[38;5;34m0\u001b[0m]             │\n",
       "├───────────────────────────────┼───────────────────────────┼─────────────────┼────────────────────────────┤\n",
       "│ output_dropout (\u001b[38;5;33mDropout\u001b[0m)      │ (\u001b[38;5;45mNone\u001b[0m, \u001b[38;5;34m768\u001b[0m)               │               \u001b[38;5;34m0\u001b[0m │ pooled_dense[\u001b[38;5;34m0\u001b[0m][\u001b[38;5;34m0\u001b[0m]         │\n",
       "├───────────────────────────────┼───────────────────────────┼─────────────────┼────────────────────────────┤\n",
       "│ logits (\u001b[38;5;33mDense\u001b[0m)                │ (\u001b[38;5;45mNone\u001b[0m, \u001b[38;5;34m1\u001b[0m)                 │             \u001b[38;5;34m769\u001b[0m │ output_dropout[\u001b[38;5;34m0\u001b[0m][\u001b[38;5;34m0\u001b[0m]       │\n",
       "└───────────────────────────────┴───────────────────────────┴─────────────────┴────────────────────────────┘\n"
      ]
     },
     "metadata": {},
     "output_type": "display_data"
    },
    {
     "data": {
      "text/html": [
       "<pre style=\"white-space:pre;overflow-x:auto;line-height:normal;font-family:Menlo,'DejaVu Sans Mono',consolas,'Courier New',monospace\"><span style=\"font-weight: bold\"> Total params: </span><span style=\"color: #00af00; text-decoration-color: #00af00\">68,136,965</span> (259.92 MB)\n",
       "</pre>\n"
      ],
      "text/plain": [
       "\u001b[1m Total params: \u001b[0m\u001b[38;5;34m68,136,965\u001b[0m (259.92 MB)\n"
      ]
     },
     "metadata": {},
     "output_type": "display_data"
    },
    {
     "data": {
      "text/html": [
       "<pre style=\"white-space:pre;overflow-x:auto;line-height:normal;font-family:Menlo,'DejaVu Sans Mono',consolas,'Courier New',monospace\"><span style=\"font-weight: bold\"> Trainable params: </span><span style=\"color: #00af00; text-decoration-color: #00af00\">591,361</span> (2.26 MB)\n",
       "</pre>\n"
      ],
      "text/plain": [
       "\u001b[1m Trainable params: \u001b[0m\u001b[38;5;34m591,361\u001b[0m (2.26 MB)\n"
      ]
     },
     "metadata": {},
     "output_type": "display_data"
    },
    {
     "data": {
      "text/html": [
       "<pre style=\"white-space:pre;overflow-x:auto;line-height:normal;font-family:Menlo,'DejaVu Sans Mono',consolas,'Courier New',monospace\"><span style=\"font-weight: bold\"> Non-trainable params: </span><span style=\"color: #00af00; text-decoration-color: #00af00\">66,362,880</span> (253.15 MB)\n",
       "</pre>\n"
      ],
      "text/plain": [
       "\u001b[1m Non-trainable params: \u001b[0m\u001b[38;5;34m66,362,880\u001b[0m (253.15 MB)\n"
      ]
     },
     "metadata": {},
     "output_type": "display_data"
    },
    {
     "data": {
      "text/html": [
       "<pre style=\"white-space:pre;overflow-x:auto;line-height:normal;font-family:Menlo,'DejaVu Sans Mono',consolas,'Courier New',monospace\"><span style=\"font-weight: bold\"> Optimizer params: </span><span style=\"color: #00af00; text-decoration-color: #00af00\">1,182,724</span> (4.51 MB)\n",
       "</pre>\n"
      ],
      "text/plain": [
       "\u001b[1m Optimizer params: \u001b[0m\u001b[38;5;34m1,182,724\u001b[0m (4.51 MB)\n"
      ]
     },
     "metadata": {},
     "output_type": "display_data"
    }
   ],
   "source": [
    "classifier.summary()"
   ]
  },
  {
   "cell_type": "code",
   "execution_count": 15,
   "id": "252e2540",
   "metadata": {
    "execution": {
     "iopub.execute_input": "2024-09-27T15:58:31.469498Z",
     "iopub.status.busy": "2024-09-27T15:58:31.469118Z",
     "iopub.status.idle": "2024-09-27T15:58:32.423464Z",
     "shell.execute_reply": "2024-09-27T15:58:32.422588Z"
    },
    "executionInfo": {
     "elapsed": 17,
     "status": "ok",
     "timestamp": 1727118506350,
     "user": {
      "displayName": "Miguel Angel Quiceno Hincapie",
      "userId": "08645216339579853177"
     },
     "user_tz": 300
    },
    "id": "ed6f9404",
    "outputId": "23b63110-f4b0-4bdc-d481-838115a84109",
    "papermill": {
     "duration": 1.934827,
     "end_time": "2024-09-27T15:58:32.425618",
     "exception": false,
     "start_time": "2024-09-27T15:58:30.490791",
     "status": "completed"
    },
    "tags": []
   },
   "outputs": [],
   "source": [
    "# Guardando el modelo obtenido\n",
    "classifier.save('/kaggle/working/Modelo1.keras')"
   ]
  },
  {
   "cell_type": "code",
   "execution_count": 16,
   "id": "7082517f",
   "metadata": {
    "execution": {
     "iopub.execute_input": "2024-09-27T15:58:34.355883Z",
     "iopub.status.busy": "2024-09-27T15:58:34.355464Z",
     "iopub.status.idle": "2024-09-27T15:58:37.745316Z",
     "shell.execute_reply": "2024-09-27T15:58:37.744268Z"
    },
    "papermill": {
     "duration": 4.370056,
     "end_time": "2024-09-27T15:58:37.747889",
     "exception": false,
     "start_time": "2024-09-27T15:58:33.377833",
     "status": "completed"
    },
    "tags": []
   },
   "outputs": [
    {
     "name": "stdout",
     "output_type": "stream",
     "text": [
      "\u001b[1m1/1\u001b[0m \u001b[32m━━━━━━━━━━━━━━━━━━━━\u001b[0m\u001b[37m\u001b[0m \u001b[1m2s\u001b[0m 2s/step\n",
      "Probabilidad de que el primer ensayo sea generado:  [0.00239082]\n",
      "Probabilidad de que el segundo ensayo sea generado:  [0.9999999]\n"
     ]
    }
   ],
   "source": [
    "real_essay = \"Luke had no idea that his life would change so soon after his high school graduation. He was working two part-time jobs in agrocey store and a bank when his friend Don invited him to go to Europe on a cattle boat. Luke couldn\\'t say no.\\n\\nIn 1945, World War 2 was over in Europe,and manu countries were left ruins. To help these countries recover their food and supplies,animals, and more, 44 nations joined together to help the nation they are called the Seagoing Cowboys to take care of the horses, young cows, and mules that were shiped overseas.\\n\\nBy the time he was discharged in 1947,Luke had made nine trips-the most of any Seagoing Cowboy. I had the side benifit of seeing Europe and China. But seeing the Acroplis in Greece was special,he says. So taking a gondola ride in Venice,Italy,a city with streets of water. A cargo of 335 horses plus enough hay and oats to feed them.\\n\\nIt took two weeks to cross the Atlantic Ocean from the eatern coast of the United States and a month to get to china. Caring for animals during the crossings kept Luke busy. They fed the animals three times a day water,bales of hay,and bags of oats. Stalls had to be cleaned.\\n\\nBeing a Seagoing cow was much more than an adventure for Luke. It opened up the world to him. Im grateful for the opportunity,he says. It made him more aware of people of other countries and their needs.\\n\\nIn conclusion Luke had the best time of his life being a Seagoing Cowboy he didn\\'t no his life would change so soon after his high school graduation. In 1945 world war 2 made places get ruined so he decied to go to Seagoing Cowboys. He help animals like horses,young cows,and mules too. He had so much to do but he did it and yes it was hard but he did what he was suppossed to do. A Seagoing Cow boy was more than an adventure for Luke. It opened the world up to him. He is gratefull of the opportunity.\"\n",
    "gen_essay = \"'I believe that dress codes are beneficial to the school environment. There are several reasons why I take this position. \\n\\nFirstly, dress codes help to promote a sense of equality and fairness among students. When all students are required to adhere to the same dress code, it eliminates the pressure to wear expensive or trendy clothing. This means that students from different socioeconomic backgrounds are less likely to feel excluded or marginalized based on their clothing choices.\\n\\nSecondly, dress codes can help to reduce distractions in the classroom. When students are dressed appropriately for school, they are less likely to be preoccupied with how they look or what they are wearing. This can help them to focus on their studies and be more productive in class.\\n\\nLastly, dress codes can instill a sense of discipline and professionalism among students. By requiring students to dress in a particular way, it sends a message that school is a place for learning and that students should take their education seriously.\\n\\nFor example, when our school implemented a dress code last year, we noticed a significant improvement in the overall behavior and attitudes of our students. Fewer distractions, improved focus, and a more professional attitude created a more positive learning environment for everyone.\\n\\nIn conclusion, while some students may not like the idea of a dress code, I believe that the benefits far outweigh any potential drawbacks. By promoting equality, reducing distractions, and instilling discipline, dress codes can be an effective tool for creating a positive learning environment in schools.'\"\n",
    "preds = classifier.predict([real_essay, gen_essay])\n",
    "print(\"Probabilidad de que el primer ensayo sea generado: \", preds[0])\n",
    "print(\"Probabilidad de que el segundo ensayo sea generado: \", preds[1])"
   ]
  },
  {
   "cell_type": "code",
   "execution_count": 17,
   "id": "39080584",
   "metadata": {
    "execution": {
     "iopub.execute_input": "2024-09-27T15:58:39.675196Z",
     "iopub.status.busy": "2024-09-27T15:58:39.674795Z",
     "iopub.status.idle": "2024-09-27T15:58:42.659069Z",
     "shell.execute_reply": "2024-09-27T15:58:42.658097Z"
    },
    "papermill": {
     "duration": 3.970344,
     "end_time": "2024-09-27T15:58:42.661057",
     "exception": false,
     "start_time": "2024-09-27T15:58:38.690713",
     "status": "completed"
    },
    "tags": []
   },
   "outputs": [
    {
     "name": "stdout",
     "output_type": "stream",
     "text": [
      "\u001b[1m1/1\u001b[0m \u001b[32m━━━━━━━━━━━━━━━━━━━━\u001b[0m\u001b[37m\u001b[0m \u001b[1m2s\u001b[0m 2s/step\n"
     ]
    },
    {
     "data": {
      "text/plain": [
       "array([[0.18734224]], dtype=float32)"
      ]
     },
     "execution_count": 17,
     "metadata": {},
     "output_type": "execute_result"
    }
   ],
   "source": [
    "classifier.predict([\"Im an artificial intelligence\"])"
   ]
  },
  {
   "cell_type": "markdown",
   "id": "1f945bbe",
   "metadata": {
    "papermill": {
     "duration": 0.922701,
     "end_time": "2024-09-27T15:58:44.572938",
     "exception": false,
     "start_time": "2024-09-27T15:58:43.650237",
     "status": "completed"
    },
    "tags": []
   },
   "source": [
    "## Conclusiones\n",
    "1. Como el modelo está entrenado solo en ensayos estudiantiles, podría generar sesgos al asumir que ciertos patrones de escritura son propios de los estudiantes, mientras que otros podrían ser considerados automáticamente generados por IA. Esto podría afectar a estudiantes que tienen estilos de escritura no convencionales o que utilizan herramientas asistidas por IA para mejorar su trabajo.\n",
    "2. El problema de clasificar si un texto fue generado sigue siendo un problema abierto muy dificil, con el crecimiento de los LLMs y la cantidad de textos disponibles creciendo cada vez mas y mas, los textos generados son cada vez mas humanos que los anteriores y este problema se hace mas dificil de generalizar.\n",
    "\n",
    "En resumen, aunque el modelo podría ser útil para ciertos fines académicos, las limitaciones en su capacidad para generalizar y las posibles implicaciones éticas de su uso deben abordarse cuidadosamente antes de implementarlo en entornos educativos o en otros contextos.\n",
    "\n",
    "## Implicaciones Eticas\n",
    "1. A pesar de la alta precisión, ningún modelo es infalible. Siempre existe un margen de error que podría llevar a falsas acusaciones de trampas o fraude académico, lo que afectaría la reputación y carrera de los estudiantes. Es fundamental garantizar que el uso de esta tecnología no cause sanciones injustas, y que siempre haya un proceso de apelación o verificación adicional por parte de los educadores.\n",
    "2. Existe el riesgo de que los educadores se vuelvan demasiado dependientes de estos modelos, lo que podría reducir su papel en la evaluación crítica de los trabajos escritos. Además, podría desincentivar el diálogo y el aprendizaje sobre el uso responsable de tecnologías generativas. En lugar de simplemente confiar en el modelo, es necesario fomentar un enfoque educativo equilibrado que incluya discusiones sobre ética y creatividad en la era de la IA."
   ]
  },
  {
   "cell_type": "markdown",
   "id": "45e6c0b8",
   "metadata": {
    "papermill": {
     "duration": 0.954778,
     "end_time": "2024-09-27T15:58:46.506420",
     "exception": false,
     "start_time": "2024-09-27T15:58:45.551642",
     "status": "completed"
    },
    "tags": []
   },
   "source": [
    "## Trabajo futuro\n",
    "A partir de esta base algo que se podria hacer es ampliar el modelo hacia mas contextos para que a la hora de usarlo se pueda tambien especificar un tema y el modelo pueda ser mas preciso"
   ]
  }
 ],
 "metadata": {
  "accelerator": "GPU",
  "colab": {
   "gpuType": "T4",
   "provenance": []
  },
  "kaggle": {
   "accelerator": "gpu",
   "dataSources": [
    {
     "datasetId": 5755759,
     "sourceId": 9466060,
     "sourceType": "datasetVersion"
    },
    {
     "datasetId": 5773266,
     "sourceId": 9489344,
     "sourceType": "datasetVersion"
    },
    {
     "modelId": 2821,
     "modelInstanceId": 4689,
     "sourceId": 6068,
     "sourceType": "modelInstanceVersion"
    }
   ],
   "dockerImageVersionId": 30761,
   "isGpuEnabled": true,
   "isInternetEnabled": false,
   "language": "python",
   "sourceType": "notebook"
  },
  "kernelspec": {
   "display_name": "Python 3",
   "language": "python",
   "name": "python3"
  },
  "language_info": {
   "codemirror_mode": {
    "name": "ipython",
    "version": 3
   },
   "file_extension": ".py",
   "mimetype": "text/x-python",
   "name": "python",
   "nbconvert_exporter": "python",
   "pygments_lexer": "ipython3",
   "version": "3.10.14"
  },
  "papermill": {
   "default_parameters": {},
   "duration": 1210.58947,
   "end_time": "2024-09-27T15:58:50.265597",
   "environment_variables": {},
   "exception": null,
   "input_path": "__notebook__.ipynb",
   "output_path": "__notebook__.ipynb",
   "parameters": {},
   "start_time": "2024-09-27T15:38:39.676127",
   "version": "2.6.0"
  }
 },
 "nbformat": 4,
 "nbformat_minor": 5
}
